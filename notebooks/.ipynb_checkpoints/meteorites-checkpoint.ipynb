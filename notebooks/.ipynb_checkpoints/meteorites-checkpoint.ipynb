{
 "cells": [
  {
   "cell_type": "markdown",
   "metadata": {
    "id": "BzjAANPM-hDD"
   },
   "source": [
    "## Pandas Profiling: NASA Meteorites example\n",
    "Source of data: https://data.nasa.gov/Space-Science/Meteorite-Landings/gh4g-9sfh"
   ]
  },
  {
   "cell_type": "markdown",
   "metadata": {
    "id": "Wwt30DMa-hDG"
   },
   "source": [
    "The autoreload instruction reloads modules automatically before code execution, which is helpful for the update below."
   ]
  },
  {
   "cell_type": "code",
   "execution_count": 1,
   "metadata": {
    "id": "M3xs9rX5-hDH"
   },
   "outputs": [],
   "source": [
    "%load_ext autoreload\n",
    "%autoreload 2"
   ]
  },
  {
   "cell_type": "markdown",
   "metadata": {
    "id": "tfuBdhNa-hDI"
   },
   "source": [
    "Make sure that we have the latest version of pandas-profiling."
   ]
  },
  {
   "cell_type": "code",
   "execution_count": null,
   "metadata": {
    "collapsed": true,
    "id": "JEgtZyfT-hDI",
    "jupyter": {
     "outputs_hidden": true
    },
    "scrolled": true
   },
   "outputs": [
    {
     "name": "stdout",
     "output_type": "stream",
     "text": [
      "Requirement already satisfied: ydata-profiling[notebook] in /home/zero/miniconda3/lib/python3.12/site-packages (4.9.0)\n",
      "Requirement already satisfied: scipy<1.14,>=1.4.1 in /home/zero/miniconda3/lib/python3.12/site-packages (from ydata-profiling[notebook]) (1.13.1)\n",
      "Requirement already satisfied: pandas!=1.4.0,<3,>1.1 in /home/zero/miniconda3/lib/python3.12/site-packages (from ydata-profiling[notebook]) (2.2.2)\n",
      "Requirement already satisfied: matplotlib<3.10,>=3.5 in /home/zero/miniconda3/lib/python3.12/site-packages (from ydata-profiling[notebook]) (3.9.2)\n",
      "Requirement already satisfied: pydantic>=2 in /home/zero/miniconda3/lib/python3.12/site-packages (from ydata-profiling[notebook]) (2.8.2)\n",
      "Requirement already satisfied: PyYAML<6.1,>=5.0.0 in /home/zero/miniconda3/lib/python3.12/site-packages (from ydata-profiling[notebook]) (6.0.1)\n",
      "Requirement already satisfied: jinja2<3.2,>=2.11.1 in /home/zero/miniconda3/lib/python3.12/site-packages (from ydata-profiling[notebook]) (3.1.4)\n",
      "Requirement already satisfied: visions<0.7.7,>=0.7.5 in /home/zero/miniconda3/lib/python3.12/site-packages (from visions[type_image_path]<0.7.7,>=0.7.5->ydata-profiling[notebook]) (0.7.6)\n",
      "Requirement already satisfied: numpy<2,>=1.16.0 in /home/zero/miniconda3/lib/python3.12/site-packages (from ydata-profiling[notebook]) (1.26.4)\n",
      "Requirement already satisfied: htmlmin==0.1.12 in /home/zero/miniconda3/lib/python3.12/site-packages (from ydata-profiling[notebook]) (0.1.12)\n",
      "Requirement already satisfied: phik<0.13,>=0.11.1 in /home/zero/miniconda3/lib/python3.12/site-packages (from ydata-profiling[notebook]) (0.12.4)\n",
      "Requirement already satisfied: requests<3,>=2.24.0 in /home/zero/miniconda3/lib/python3.12/site-packages (from ydata-profiling[notebook]) (2.32.3)\n",
      "Requirement already satisfied: tqdm<5,>=4.48.2 in /home/zero/miniconda3/lib/python3.12/site-packages (from ydata-profiling[notebook]) (4.66.5)\n",
      "Requirement already satisfied: seaborn<0.14,>=0.10.1 in /home/zero/miniconda3/lib/python3.12/site-packages (from ydata-profiling[notebook]) (0.13.2)\n",
      "Requirement already satisfied: multimethod<2,>=1.4 in /home/zero/miniconda3/lib/python3.12/site-packages (from ydata-profiling[notebook]) (1.12)\n",
      "Requirement already satisfied: statsmodels<1,>=0.13.2 in /home/zero/miniconda3/lib/python3.12/site-packages (from ydata-profiling[notebook]) (0.14.2)\n",
      "Requirement already satisfied: typeguard<5,>=3 in /home/zero/miniconda3/lib/python3.12/site-packages (from ydata-profiling[notebook]) (4.3.0)\n",
      "Requirement already satisfied: imagehash==4.3.1 in /home/zero/miniconda3/lib/python3.12/site-packages (from ydata-profiling[notebook]) (4.3.1)\n",
      "Requirement already satisfied: wordcloud>=1.9.1 in /home/zero/miniconda3/lib/python3.12/site-packages (from ydata-profiling[notebook]) (1.9.3)\n",
      "Requirement already satisfied: dacite>=1.8 in /home/zero/miniconda3/lib/python3.12/site-packages (from ydata-profiling[notebook]) (1.8.1)\n",
      "Requirement already satisfied: numba<1,>=0.56.0 in /home/zero/miniconda3/lib/python3.12/site-packages (from ydata-profiling[notebook]) (0.60.0)\n",
      "Requirement already satisfied: jupyter>=1.0.0 in /home/zero/miniconda3/lib/python3.12/site-packages (from ydata-profiling[notebook]) (1.1.1)\n",
      "Requirement already satisfied: ipywidgets>=7.5.1 in /home/zero/miniconda3/lib/python3.12/site-packages (from ydata-profiling[notebook]) (8.1.5)\n",
      "Requirement already satisfied: PyWavelets in /home/zero/miniconda3/lib/python3.12/site-packages (from imagehash==4.3.1->ydata-profiling[notebook]) (1.7.0)\n",
      "Requirement already satisfied: pillow in /home/zero/miniconda3/lib/python3.12/site-packages (from imagehash==4.3.1->ydata-profiling[notebook]) (10.4.0)\n",
      "Requirement already satisfied: comm>=0.1.3 in /home/zero/miniconda3/lib/python3.12/site-packages (from ipywidgets>=7.5.1->ydata-profiling[notebook]) (0.2.1)\n",
      "Requirement already satisfied: ipython>=6.1.0 in /home/zero/miniconda3/lib/python3.12/site-packages (from ipywidgets>=7.5.1->ydata-profiling[notebook]) (8.25.0)\n",
      "Requirement already satisfied: traitlets>=4.3.1 in /home/zero/miniconda3/lib/python3.12/site-packages (from ipywidgets>=7.5.1->ydata-profiling[notebook]) (5.14.3)\n",
      "Requirement already satisfied: widgetsnbextension~=4.0.12 in /home/zero/miniconda3/lib/python3.12/site-packages (from ipywidgets>=7.5.1->ydata-profiling[notebook]) (4.0.13)\n",
      "Requirement already satisfied: jupyterlab-widgets~=3.0.12 in /home/zero/miniconda3/lib/python3.12/site-packages (from ipywidgets>=7.5.1->ydata-profiling[notebook]) (3.0.13)\n",
      "Requirement already satisfied: MarkupSafe>=2.0 in /home/zero/miniconda3/lib/python3.12/site-packages (from jinja2<3.2,>=2.11.1->ydata-profiling[notebook]) (2.1.3)\n",
      "Requirement already satisfied: notebook in /home/zero/miniconda3/lib/python3.12/site-packages (from jupyter>=1.0.0->ydata-profiling[notebook]) (7.2.2)\n",
      "Requirement already satisfied: jupyter-console in /home/zero/miniconda3/lib/python3.12/site-packages (from jupyter>=1.0.0->ydata-profiling[notebook]) (6.6.3)\n",
      "Requirement already satisfied: nbconvert in /home/zero/miniconda3/lib/python3.12/site-packages (from jupyter>=1.0.0->ydata-profiling[notebook]) (7.10.0)\n",
      "Requirement already satisfied: ipykernel in /home/zero/miniconda3/lib/python3.12/site-packages (from jupyter>=1.0.0->ydata-profiling[notebook]) (6.28.0)\n",
      "Requirement already satisfied: jupyterlab in /home/zero/miniconda3/lib/python3.12/site-packages (from jupyter>=1.0.0->ydata-profiling[notebook]) (4.2.5)\n",
      "Requirement already satisfied: contourpy>=1.0.1 in /home/zero/miniconda3/lib/python3.12/site-packages (from matplotlib<3.10,>=3.5->ydata-profiling[notebook]) (1.2.1)\n",
      "Requirement already satisfied: cycler>=0.10 in /home/zero/miniconda3/lib/python3.12/site-packages (from matplotlib<3.10,>=3.5->ydata-profiling[notebook]) (0.12.1)\n",
      "Requirement already satisfied: fonttools>=4.22.0 in /home/zero/miniconda3/lib/python3.12/site-packages (from matplotlib<3.10,>=3.5->ydata-profiling[notebook]) (4.53.1)\n",
      "Requirement already satisfied: kiwisolver>=1.3.1 in /home/zero/miniconda3/lib/python3.12/site-packages (from matplotlib<3.10,>=3.5->ydata-profiling[notebook]) (1.4.5)\n",
      "Requirement already satisfied: packaging>=20.0 in /home/zero/miniconda3/lib/python3.12/site-packages (from matplotlib<3.10,>=3.5->ydata-profiling[notebook]) (24.1)\n",
      "Requirement already satisfied: pyparsing>=2.3.1 in /home/zero/miniconda3/lib/python3.12/site-packages (from matplotlib<3.10,>=3.5->ydata-profiling[notebook]) (3.1.2)\n",
      "Requirement already satisfied: python-dateutil>=2.7 in /home/zero/miniconda3/lib/python3.12/site-packages (from matplotlib<3.10,>=3.5->ydata-profiling[notebook]) (2.9.0.post0)\n",
      "Requirement already satisfied: llvmlite<0.44,>=0.43.0dev0 in /home/zero/miniconda3/lib/python3.12/site-packages (from numba<1,>=0.56.0->ydata-profiling[notebook]) (0.43.0)\n",
      "Requirement already satisfied: pytz>=2020.1 in /home/zero/miniconda3/lib/python3.12/site-packages (from pandas!=1.4.0,<3,>1.1->ydata-profiling[notebook]) (2024.1)\n",
      "Requirement already satisfied: tzdata>=2022.7 in /home/zero/miniconda3/lib/python3.12/site-packages (from pandas!=1.4.0,<3,>1.1->ydata-profiling[notebook]) (2023.3)\n",
      "Requirement already satisfied: joblib>=0.14.1 in /home/zero/miniconda3/lib/python3.12/site-packages (from phik<0.13,>=0.11.1->ydata-profiling[notebook]) (1.4.2)\n",
      "Requirement already satisfied: annotated-types>=0.4.0 in /home/zero/miniconda3/lib/python3.12/site-packages (from pydantic>=2->ydata-profiling[notebook]) (0.7.0)\n",
      "Requirement already satisfied: pydantic-core==2.20.1 in /home/zero/miniconda3/lib/python3.12/site-packages (from pydantic>=2->ydata-profiling[notebook]) (2.20.1)\n",
      "Requirement already satisfied: typing-extensions>=4.6.1 in /home/zero/miniconda3/lib/python3.12/site-packages (from pydantic>=2->ydata-profiling[notebook]) (4.11.0)\n",
      "Requirement already satisfied: charset-normalizer<4,>=2 in /home/zero/miniconda3/lib/python3.12/site-packages (from requests<3,>=2.24.0->ydata-profiling[notebook]) (3.3.2)\n",
      "Requirement already satisfied: idna<4,>=2.5 in /home/zero/miniconda3/lib/python3.12/site-packages (from requests<3,>=2.24.0->ydata-profiling[notebook]) (3.7)\n",
      "Requirement already satisfied: urllib3<3,>=1.21.1 in /home/zero/miniconda3/lib/python3.12/site-packages (from requests<3,>=2.24.0->ydata-profiling[notebook]) (2.2.2)\n",
      "Requirement already satisfied: certifi>=2017.4.17 in /home/zero/miniconda3/lib/python3.12/site-packages (from requests<3,>=2.24.0->ydata-profiling[notebook]) (2024.8.30)\n",
      "Requirement already satisfied: patsy>=0.5.6 in /home/zero/miniconda3/lib/python3.12/site-packages (from statsmodels<1,>=0.13.2->ydata-profiling[notebook]) (0.5.6)\n",
      "Requirement already satisfied: attrs>=19.3.0 in /home/zero/miniconda3/lib/python3.12/site-packages (from visions<0.7.7,>=0.7.5->visions[type_image_path]<0.7.7,>=0.7.5->ydata-profiling[notebook]) (23.1.0)\n",
      "Requirement already satisfied: networkx>=2.4 in /home/zero/miniconda3/lib/python3.12/site-packages (from visions<0.7.7,>=0.7.5->visions[type_image_path]<0.7.7,>=0.7.5->ydata-profiling[notebook]) (3.3)\n",
      "Requirement already satisfied: decorator in /home/zero/miniconda3/lib/python3.12/site-packages (from ipython>=6.1.0->ipywidgets>=7.5.1->ydata-profiling[notebook]) (5.1.1)\n",
      "Requirement already satisfied: jedi>=0.16 in /home/zero/miniconda3/lib/python3.12/site-packages (from ipython>=6.1.0->ipywidgets>=7.5.1->ydata-profiling[notebook]) (0.19.1)\n",
      "Requirement already satisfied: matplotlib-inline in /home/zero/miniconda3/lib/python3.12/site-packages (from ipython>=6.1.0->ipywidgets>=7.5.1->ydata-profiling[notebook]) (0.1.6)\n",
      "Requirement already satisfied: prompt-toolkit<3.1.0,>=3.0.41 in /home/zero/miniconda3/lib/python3.12/site-packages (from ipython>=6.1.0->ipywidgets>=7.5.1->ydata-profiling[notebook]) (3.0.43)\n",
      "Requirement already satisfied: pygments>=2.4.0 in /home/zero/miniconda3/lib/python3.12/site-packages (from ipython>=6.1.0->ipywidgets>=7.5.1->ydata-profiling[notebook]) (2.15.1)\n",
      "Requirement already satisfied: stack-data in /home/zero/miniconda3/lib/python3.12/site-packages (from ipython>=6.1.0->ipywidgets>=7.5.1->ydata-profiling[notebook]) (0.2.0)\n",
      "Requirement already satisfied: pexpect>4.3 in /home/zero/miniconda3/lib/python3.12/site-packages (from ipython>=6.1.0->ipywidgets>=7.5.1->ydata-profiling[notebook]) (4.8.0)\n",
      "Requirement already satisfied: six in /home/zero/miniconda3/lib/python3.12/site-packages (from patsy>=0.5.6->statsmodels<1,>=0.13.2->ydata-profiling[notebook]) (1.16.0)\n",
      "Requirement already satisfied: debugpy>=1.6.5 in /home/zero/miniconda3/lib/python3.12/site-packages (from ipykernel->jupyter>=1.0.0->ydata-profiling[notebook]) (1.6.7)\n",
      "Requirement already satisfied: jupyter-client>=6.1.12 in /home/zero/miniconda3/lib/python3.12/site-packages (from ipykernel->jupyter>=1.0.0->ydata-profiling[notebook]) (8.6.0)\n",
      "Requirement already satisfied: jupyter-core!=5.0.*,>=4.12 in /home/zero/miniconda3/lib/python3.12/site-packages (from ipykernel->jupyter>=1.0.0->ydata-profiling[notebook]) (5.7.2)\n",
      "Requirement already satisfied: nest-asyncio in /home/zero/miniconda3/lib/python3.12/site-packages (from ipykernel->jupyter>=1.0.0->ydata-profiling[notebook]) (1.6.0)\n",
      "Requirement already satisfied: psutil in /home/zero/miniconda3/lib/python3.12/site-packages (from ipykernel->jupyter>=1.0.0->ydata-profiling[notebook]) (5.9.0)\n",
      "Requirement already satisfied: pyzmq>=24 in /home/zero/miniconda3/lib/python3.12/site-packages (from ipykernel->jupyter>=1.0.0->ydata-profiling[notebook]) (25.1.2)\n",
      "Requirement already satisfied: tornado>=6.1 in /home/zero/miniconda3/lib/python3.12/site-packages (from ipykernel->jupyter>=1.0.0->ydata-profiling[notebook]) (6.4.1)\n",
      "Requirement already satisfied: async-lru>=1.0.0 in /home/zero/miniconda3/lib/python3.12/site-packages (from jupyterlab->jupyter>=1.0.0->ydata-profiling[notebook]) (2.0.4)\n",
      "Requirement already satisfied: httpx>=0.25.0 in /home/zero/miniconda3/lib/python3.12/site-packages (from jupyterlab->jupyter>=1.0.0->ydata-profiling[notebook]) (0.27.2)\n",
      "Requirement already satisfied: jupyter-lsp>=2.0.0 in /home/zero/miniconda3/lib/python3.12/site-packages (from jupyterlab->jupyter>=1.0.0->ydata-profiling[notebook]) (2.2.0)\n",
      "Requirement already satisfied: jupyter-server<3,>=2.4.0 in /home/zero/miniconda3/lib/python3.12/site-packages (from jupyterlab->jupyter>=1.0.0->ydata-profiling[notebook]) (2.14.1)\n",
      "Requirement already satisfied: jupyterlab-server<3,>=2.27.1 in /home/zero/miniconda3/lib/python3.12/site-packages (from jupyterlab->jupyter>=1.0.0->ydata-profiling[notebook]) (2.27.3)\n",
      "Requirement already satisfied: notebook-shim>=0.2 in /home/zero/miniconda3/lib/python3.12/site-packages (from jupyterlab->jupyter>=1.0.0->ydata-profiling[notebook]) (0.2.3)\n",
      "Requirement already satisfied: setuptools>=40.1.0 in /home/zero/miniconda3/lib/python3.12/site-packages (from jupyterlab->jupyter>=1.0.0->ydata-profiling[notebook]) (72.1.0)\n",
      "Requirement already satisfied: beautifulsoup4 in /home/zero/miniconda3/lib/python3.12/site-packages (from nbconvert->jupyter>=1.0.0->ydata-profiling[notebook]) (4.12.3)\n",
      "Requirement already satisfied: bleach!=5.0.0 in /home/zero/miniconda3/lib/python3.12/site-packages (from nbconvert->jupyter>=1.0.0->ydata-profiling[notebook]) (4.1.0)\n",
      "Requirement already satisfied: defusedxml in /home/zero/miniconda3/lib/python3.12/site-packages (from nbconvert->jupyter>=1.0.0->ydata-profiling[notebook]) (0.7.1)\n",
      "Requirement already satisfied: jupyterlab-pygments in /home/zero/miniconda3/lib/python3.12/site-packages (from nbconvert->jupyter>=1.0.0->ydata-profiling[notebook]) (0.1.2)\n",
      "Requirement already satisfied: mistune<4,>=2.0.3 in /home/zero/miniconda3/lib/python3.12/site-packages (from nbconvert->jupyter>=1.0.0->ydata-profiling[notebook]) (2.0.4)\n",
      "Requirement already satisfied: nbclient>=0.5.0 in /home/zero/miniconda3/lib/python3.12/site-packages (from nbconvert->jupyter>=1.0.0->ydata-profiling[notebook]) (0.8.0)\n",
      "Requirement already satisfied: nbformat>=5.7 in /home/zero/miniconda3/lib/python3.12/site-packages (from nbconvert->jupyter>=1.0.0->ydata-profiling[notebook]) (5.9.2)\n",
      "Requirement already satisfied: pandocfilters>=1.4.1 in /home/zero/miniconda3/lib/python3.12/site-packages (from nbconvert->jupyter>=1.0.0->ydata-profiling[notebook]) (1.5.0)\n",
      "Requirement already satisfied: tinycss2 in /home/zero/miniconda3/lib/python3.12/site-packages (from nbconvert->jupyter>=1.0.0->ydata-profiling[notebook]) (1.2.1)\n",
      "Requirement already satisfied: webencodings in /home/zero/miniconda3/lib/python3.12/site-packages (from bleach!=5.0.0->nbconvert->jupyter>=1.0.0->ydata-profiling[notebook]) (0.5.1)\n",
      "Requirement already satisfied: anyio in /home/zero/miniconda3/lib/python3.12/site-packages (from httpx>=0.25.0->jupyterlab->jupyter>=1.0.0->ydata-profiling[notebook]) (4.2.0)\n",
      "Requirement already satisfied: httpcore==1.* in /home/zero/miniconda3/lib/python3.12/site-packages (from httpx>=0.25.0->jupyterlab->jupyter>=1.0.0->ydata-profiling[notebook]) (1.0.5)\n",
      "Requirement already satisfied: sniffio in /home/zero/miniconda3/lib/python3.12/site-packages (from httpx>=0.25.0->jupyterlab->jupyter>=1.0.0->ydata-profiling[notebook]) (1.3.0)\n",
      "Requirement already satisfied: h11<0.15,>=0.13 in /home/zero/miniconda3/lib/python3.12/site-packages (from httpcore==1.*->httpx>=0.25.0->jupyterlab->jupyter>=1.0.0->ydata-profiling[notebook]) (0.14.0)\n",
      "Requirement already satisfied: parso<0.9.0,>=0.8.3 in /home/zero/miniconda3/lib/python3.12/site-packages (from jedi>=0.16->ipython>=6.1.0->ipywidgets>=7.5.1->ydata-profiling[notebook]) (0.8.3)\n",
      "Requirement already satisfied: platformdirs>=2.5 in /home/zero/miniconda3/lib/python3.12/site-packages (from jupyter-core!=5.0.*,>=4.12->ipykernel->jupyter>=1.0.0->ydata-profiling[notebook]) (3.10.0)\n",
      "Requirement already satisfied: argon2-cffi>=21.1 in /home/zero/miniconda3/lib/python3.12/site-packages (from jupyter-server<3,>=2.4.0->jupyterlab->jupyter>=1.0.0->ydata-profiling[notebook]) (21.3.0)\n",
      "Requirement already satisfied: jupyter-events>=0.9.0 in /home/zero/miniconda3/lib/python3.12/site-packages (from jupyter-server<3,>=2.4.0->jupyterlab->jupyter>=1.0.0->ydata-profiling[notebook]) (0.10.0)\n",
      "Requirement already satisfied: jupyter-server-terminals>=0.4.4 in /home/zero/miniconda3/lib/python3.12/site-packages (from jupyter-server<3,>=2.4.0->jupyterlab->jupyter>=1.0.0->ydata-profiling[notebook]) (0.4.4)\n",
      "Requirement already satisfied: overrides>=5.0 in /home/zero/miniconda3/lib/python3.12/site-packages (from jupyter-server<3,>=2.4.0->jupyterlab->jupyter>=1.0.0->ydata-profiling[notebook]) (7.4.0)\n",
      "Requirement already satisfied: prometheus-client>=0.9 in /home/zero/miniconda3/lib/python3.12/site-packages (from jupyter-server<3,>=2.4.0->jupyterlab->jupyter>=1.0.0->ydata-profiling[notebook]) (0.14.1)\n",
      "Requirement already satisfied: send2trash>=1.8.2 in /home/zero/miniconda3/lib/python3.12/site-packages (from jupyter-server<3,>=2.4.0->jupyterlab->jupyter>=1.0.0->ydata-profiling[notebook]) (1.8.2)\n",
      "Requirement already satisfied: terminado>=0.8.3 in /home/zero/miniconda3/lib/python3.12/site-packages (from jupyter-server<3,>=2.4.0->jupyterlab->jupyter>=1.0.0->ydata-profiling[notebook]) (0.17.1)\n",
      "Requirement already satisfied: websocket-client>=1.7 in /home/zero/miniconda3/lib/python3.12/site-packages (from jupyter-server<3,>=2.4.0->jupyterlab->jupyter>=1.0.0->ydata-profiling[notebook]) (1.8.0)\n",
      "Requirement already satisfied: babel>=2.10 in /home/zero/miniconda3/lib/python3.12/site-packages (from jupyterlab-server<3,>=2.27.1->jupyterlab->jupyter>=1.0.0->ydata-profiling[notebook]) (2.11.0)\n",
      "Requirement already satisfied: json5>=0.9.0 in /home/zero/miniconda3/lib/python3.12/site-packages (from jupyterlab-server<3,>=2.27.1->jupyterlab->jupyter>=1.0.0->ydata-profiling[notebook]) (0.9.6)\n",
      "Requirement already satisfied: jsonschema>=4.18.0 in /home/zero/miniconda3/lib/python3.12/site-packages (from jupyterlab-server<3,>=2.27.1->jupyterlab->jupyter>=1.0.0->ydata-profiling[notebook]) (4.19.2)\n",
      "Requirement already satisfied: fastjsonschema in /home/zero/miniconda3/lib/python3.12/site-packages (from nbformat>=5.7->nbconvert->jupyter>=1.0.0->ydata-profiling[notebook]) (2.16.2)\n",
      "Requirement already satisfied: ptyprocess>=0.5 in /home/zero/miniconda3/lib/python3.12/site-packages (from pexpect>4.3->ipython>=6.1.0->ipywidgets>=7.5.1->ydata-profiling[notebook]) (0.7.0)\n",
      "Requirement already satisfied: wcwidth in /home/zero/miniconda3/lib/python3.12/site-packages (from prompt-toolkit<3.1.0,>=3.0.41->ipython>=6.1.0->ipywidgets>=7.5.1->ydata-profiling[notebook]) (0.2.5)\n",
      "Requirement already satisfied: soupsieve>1.2 in /home/zero/miniconda3/lib/python3.12/site-packages (from beautifulsoup4->nbconvert->jupyter>=1.0.0->ydata-profiling[notebook]) (2.5)\n",
      "Requirement already satisfied: executing in /home/zero/miniconda3/lib/python3.12/site-packages (from stack-data->ipython>=6.1.0->ipywidgets>=7.5.1->ydata-profiling[notebook]) (0.8.3)\n",
      "Requirement already satisfied: asttokens in /home/zero/miniconda3/lib/python3.12/site-packages (from stack-data->ipython>=6.1.0->ipywidgets>=7.5.1->ydata-profiling[notebook]) (2.0.5)\n",
      "Requirement already satisfied: pure-eval in /home/zero/miniconda3/lib/python3.12/site-packages (from stack-data->ipython>=6.1.0->ipywidgets>=7.5.1->ydata-profiling[notebook]) (0.2.2)\n",
      "Requirement already satisfied: argon2-cffi-bindings in /home/zero/miniconda3/lib/python3.12/site-packages (from argon2-cffi>=21.1->jupyter-server<3,>=2.4.0->jupyterlab->jupyter>=1.0.0->ydata-profiling[notebook]) (21.2.0)\n",
      "Requirement already satisfied: jsonschema-specifications>=2023.03.6 in /home/zero/miniconda3/lib/python3.12/site-packages (from jsonschema>=4.18.0->jupyterlab-server<3,>=2.27.1->jupyterlab->jupyter>=1.0.0->ydata-profiling[notebook]) (2023.7.1)\n",
      "Requirement already satisfied: referencing>=0.28.4 in /home/zero/miniconda3/lib/python3.12/site-packages (from jsonschema>=4.18.0->jupyterlab-server<3,>=2.27.1->jupyterlab->jupyter>=1.0.0->ydata-profiling[notebook]) (0.30.2)\n",
      "Requirement already satisfied: rpds-py>=0.7.1 in /home/zero/miniconda3/lib/python3.12/site-packages (from jsonschema>=4.18.0->jupyterlab-server<3,>=2.27.1->jupyterlab->jupyter>=1.0.0->ydata-profiling[notebook]) (0.10.6)\n",
      "Requirement already satisfied: python-json-logger>=2.0.4 in /home/zero/miniconda3/lib/python3.12/site-packages (from jupyter-events>=0.9.0->jupyter-server<3,>=2.4.0->jupyterlab->jupyter>=1.0.0->ydata-profiling[notebook]) (2.0.7)\n",
      "Requirement already satisfied: rfc3339-validator in /home/zero/miniconda3/lib/python3.12/site-packages (from jupyter-events>=0.9.0->jupyter-server<3,>=2.4.0->jupyterlab->jupyter>=1.0.0->ydata-profiling[notebook]) (0.1.4)\n",
      "Requirement already satisfied: rfc3986-validator>=0.1.1 in /home/zero/miniconda3/lib/python3.12/site-packages (from jupyter-events>=0.9.0->jupyter-server<3,>=2.4.0->jupyterlab->jupyter>=1.0.0->ydata-profiling[notebook]) (0.1.1)\n",
      "Requirement already satisfied: fqdn in /home/zero/miniconda3/lib/python3.12/site-packages (from jsonschema[format-nongpl]>=4.18.0->jupyter-events>=0.9.0->jupyter-server<3,>=2.4.0->jupyterlab->jupyter>=1.0.0->ydata-profiling[notebook]) (1.5.1)\n",
      "Requirement already satisfied: isoduration in /home/zero/miniconda3/lib/python3.12/site-packages (from jsonschema[format-nongpl]>=4.18.0->jupyter-events>=0.9.0->jupyter-server<3,>=2.4.0->jupyterlab->jupyter>=1.0.0->ydata-profiling[notebook]) (20.11.0)\n",
      "Requirement already satisfied: jsonpointer>1.13 in /home/zero/miniconda3/lib/python3.12/site-packages (from jsonschema[format-nongpl]>=4.18.0->jupyter-events>=0.9.0->jupyter-server<3,>=2.4.0->jupyterlab->jupyter>=1.0.0->ydata-profiling[notebook]) (2.1)\n",
      "Requirement already satisfied: uri-template in /home/zero/miniconda3/lib/python3.12/site-packages (from jsonschema[format-nongpl]>=4.18.0->jupyter-events>=0.9.0->jupyter-server<3,>=2.4.0->jupyterlab->jupyter>=1.0.0->ydata-profiling[notebook]) (1.3.0)\n",
      "Requirement already satisfied: webcolors>=1.11 in /home/zero/miniconda3/lib/python3.12/site-packages (from jsonschema[format-nongpl]>=4.18.0->jupyter-events>=0.9.0->jupyter-server<3,>=2.4.0->jupyterlab->jupyter>=1.0.0->ydata-profiling[notebook]) (24.8.0)\n",
      "Requirement already satisfied: cffi>=1.0.1 in /home/zero/miniconda3/lib/python3.12/site-packages (from argon2-cffi-bindings->argon2-cffi>=21.1->jupyter-server<3,>=2.4.0->jupyterlab->jupyter>=1.0.0->ydata-profiling[notebook]) (1.16.0)\n",
      "Requirement already satisfied: pycparser in /home/zero/miniconda3/lib/python3.12/site-packages (from cffi>=1.0.1->argon2-cffi-bindings->argon2-cffi>=21.1->jupyter-server<3,>=2.4.0->jupyterlab->jupyter>=1.0.0->ydata-profiling[notebook]) (2.21)\n",
      "Requirement already satisfied: arrow>=0.15.0 in /home/zero/miniconda3/lib/python3.12/site-packages (from isoduration->jsonschema[format-nongpl]>=4.18.0->jupyter-events>=0.9.0->jupyter-server<3,>=2.4.0->jupyterlab->jupyter>=1.0.0->ydata-profiling[notebook]) (1.3.0)\n",
      "Requirement already satisfied: types-python-dateutil>=2.8.10 in /home/zero/miniconda3/lib/python3.12/site-packages (from arrow>=0.15.0->isoduration->jsonschema[format-nongpl]>=4.18.0->jupyter-events>=0.9.0->jupyter-server<3,>=2.4.0->jupyterlab->jupyter>=1.0.0->ydata-profiling[notebook]) (2.9.0.20240821)\n",
      "Collecting jupyter-contrib-nbextensions\n"
     ]
    }
   ],
   "source": [
    "import sys\n",
    "\n",
    "!{sys.executable} -m pip install -U ydata-profiling[notebook]\n",
    "!pip install jupyter-contrib-nbextensions\n",
    "!jupyter nbextension enable --py widgetsnbextension"
   ]
  },
  {
   "cell_type": "markdown",
   "metadata": {
    "id": "6bfCDNcn-hDJ"
   },
   "source": [
    "You might want to restart the kernel now."
   ]
  },
  {
   "cell_type": "markdown",
   "metadata": {
    "id": "cIGuvGZU-hDJ"
   },
   "source": [
    "### Import libraries"
   ]
  },
  {
   "cell_type": "code",
   "execution_count": null,
   "metadata": {
    "id": "85WWoF85-hDJ"
   },
   "outputs": [],
   "source": [
    "from pathlib import Path\n",
    "\n",
    "import numpy as np\n",
    "import pandas as pd\n",
    "import requests\n",
    "\n",
    "import ydata_profiling\n",
    "from ydata_profiling.utils.cache import cache_file"
   ]
  },
  {
   "cell_type": "markdown",
   "metadata": {
    "id": "kYF_GJv_-hDK"
   },
   "source": [
    "### Load and prepare example dataset\n",
    "We add some fake variables for illustrating pandas-profiling capabilities"
   ]
  },
  {
   "cell_type": "code",
   "execution_count": null,
   "metadata": {
    "id": "0XjzRm9g-hDK"
   },
   "outputs": [],
   "source": [
    "file_name = cache_file(\n",
    "    \"meteorites.csv\",\n",
    "    \"https://data.nasa.gov/api/views/gh4g-9sfh/rows.csv?accessType=DOWNLOAD\",\n",
    ")\n",
    "\n",
    "df = pd.read_csv(file_name)\n",
    "\n",
    "# Note: Pandas does not support dates before 1880, so we ignore these for this analysis\n",
    "df[\"year\"] = pd.to_datetime(df[\"year\"], errors=\"coerce\")\n",
    "\n",
    "# Example: Constant variable\n",
    "df[\"source\"] = \"NASA\"\n",
    "\n",
    "# Example: Boolean variable\n",
    "df[\"boolean\"] = np.random.choice([True, False], df.shape[0])\n",
    "\n",
    "# Example: Mixed with base types\n",
    "df[\"mixed\"] = np.random.choice([1, \"A\"], df.shape[0])\n",
    "\n",
    "# Example: Highly correlated variables\n",
    "df[\"reclat_city\"] = df[\"reclat\"] + np.random.normal(scale=5, size=(len(df)))\n",
    "\n",
    "# Example: Duplicate observations\n",
    "duplicates_to_add = pd.DataFrame(df.iloc[0:10])\n",
    "duplicates_to_add[\"name\"] = duplicates_to_add[\"name\"] + \" copy\"\n",
    "\n",
    "df = pd.concat([df, duplicates_to_add], ignore_index=True)"
   ]
  },
  {
   "cell_type": "markdown",
   "metadata": {
    "id": "RFWvlore-hDK"
   },
   "source": [
    "### Inline report without saving object"
   ]
  },
  {
   "cell_type": "code",
   "execution_count": null,
   "metadata": {
    "id": "dOBQZ3O2-hDK"
   },
   "outputs": [],
   "source": [
    "report = df.profile_report(\n",
    "    sort=None, html={\"style\": {\"full_width\": True}}, progress_bar=False\n",
    ")\n",
    "report"
   ]
  },
  {
   "cell_type": "markdown",
   "metadata": {
    "id": "kxYrOUve-hDK"
   },
   "source": [
    "### Save report to file"
   ]
  },
  {
   "cell_type": "code",
   "execution_count": null,
   "metadata": {
    "id": "VF4b4mgP-hDL"
   },
   "outputs": [],
   "source": [
    "profile_report = df.profile_report(html={\"style\": {\"full_width\": True}})\n",
    "profile_report.to_file(\"/tmp/example.html\")"
   ]
  },
  {
   "cell_type": "markdown",
   "metadata": {
    "id": "DXAkWjac-hDL"
   },
   "source": [
    "### More analysis (Unicode) and Print existing ProfileReport object inline"
   ]
  },
  {
   "cell_type": "code",
   "execution_count": null,
   "metadata": {
    "id": "mEPDRYRO-hDL"
   },
   "outputs": [],
   "source": [
    "profile_report = df.profile_report(\n",
    "    explorative=True, html={\"style\": {\"full_width\": True}}\n",
    ")\n",
    "profile_report"
   ]
  },
  {
   "cell_type": "markdown",
   "metadata": {
    "id": "HAkGn8S6-hDL"
   },
   "source": [
    "### Notebook Widgets"
   ]
  },
  {
   "cell_type": "code",
   "execution_count": null,
   "metadata": {
    "id": "7DtXtYPX-hDL"
   },
   "outputs": [],
   "source": [
    "profile_report.to_widgets()"
   ]
  }
 ],
 "metadata": {
  "colab": {
   "provenance": []
  },
  "kernelspec": {
   "display_name": "Python 3 (ipykernel)",
   "language": "python",
   "name": "python3"
  },
  "language_info": {
   "codemirror_mode": {
    "name": "ipython",
    "version": 3
   },
   "file_extension": ".py",
   "mimetype": "text/x-python",
   "name": "python",
   "nbconvert_exporter": "python",
   "pygments_lexer": "ipython3",
   "version": "3.12.2"
  }
 },
 "nbformat": 4,
 "nbformat_minor": 4
}
