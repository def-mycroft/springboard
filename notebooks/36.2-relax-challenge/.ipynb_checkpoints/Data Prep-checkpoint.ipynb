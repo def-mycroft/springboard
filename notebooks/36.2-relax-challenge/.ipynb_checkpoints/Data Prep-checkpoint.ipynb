{
 "cells": [
  {
   "cell_type": "code",
   "execution_count": 91,
   "id": "ff85e9e1-6ef9-4f4e-9fe2-478dc1387abd",
   "metadata": {},
   "outputs": [],
   "source": [
    "import pandas as pd"
   ]
  },
  {
   "cell_type": "code",
   "execution_count": 92,
   "id": "9992af8e-a4ee-4457-a3d7-00078a32f373",
   "metadata": {},
   "outputs": [],
   "source": [
    "df = pd.read_csv('takehome_users.csv', encoding='utf-8', encoding_errors='ignore')\n",
    "dl = pd.read_csv('takehome_user_engagement.csv', encoding='utf-8', encoding_errors='ignore')\n",
    "dl['time_stamp'] = pd.to_datetime(dl['time_stamp'])\n",
    "\n",
    "assert not [x for x in dl['user_id'].unique() if x not in df['object_id'].values]"
   ]
  },
  {
   "cell_type": "code",
   "execution_count": 93,
   "id": "9f208fb7-f7f4-49c5-ad36-e01e160b91fc",
   "metadata": {},
   "outputs": [],
   "source": [
    "df = df.rename(columns={'object_id':'user_id'})"
   ]
  },
  {
   "cell_type": "code",
   "execution_count": 131,
   "id": "fcdd36e9-34a9-4fcb-9731-20417b3ca5e4",
   "metadata": {},
   "outputs": [
    {
     "data": {
      "text/plain": [
       "(8823,)"
      ]
     },
     "execution_count": 131,
     "metadata": {},
     "output_type": "execute_result"
    }
   ],
   "source": [
    "dl['user_id'].unique().shape"
   ]
  },
  {
   "cell_type": "code",
   "execution_count": 132,
   "id": "08447b43-a227-440e-9e03-7c89a5435790",
   "metadata": {},
   "outputs": [
    {
     "data": {
      "text/plain": [
       "(12000,)"
      ]
     },
     "execution_count": 132,
     "metadata": {},
     "output_type": "execute_result"
    }
   ],
   "source": [
    "df['user_id'].unique().shape"
   ]
  },
  {
   "cell_type": "code",
   "execution_count": 121,
   "id": "21ae2be6-38f1-4bf9-88b5-e593044e7271",
   "metadata": {},
   "outputs": [
    {
     "data": {
      "text/html": [
       "<div>\n",
       "<style scoped>\n",
       "    .dataframe tbody tr th:only-of-type {\n",
       "        vertical-align: middle;\n",
       "    }\n",
       "\n",
       "    .dataframe tbody tr th {\n",
       "        vertical-align: top;\n",
       "    }\n",
       "\n",
       "    .dataframe thead th {\n",
       "        text-align: right;\n",
       "    }\n",
       "</style>\n",
       "<table border=\"1\" class=\"dataframe\">\n",
       "  <thead>\n",
       "    <tr style=\"text-align: right;\">\n",
       "      <th></th>\n",
       "      <th>1</th>\n",
       "      <th>2</th>\n",
       "      <th>3</th>\n",
       "      <th>4</th>\n",
       "      <th>5</th>\n",
       "      <th>6</th>\n",
       "      <th>7</th>\n",
       "      <th>10</th>\n",
       "      <th>11</th>\n",
       "      <th>13</th>\n",
       "      <th>...</th>\n",
       "      <th>11989</th>\n",
       "      <th>11990</th>\n",
       "      <th>11991</th>\n",
       "      <th>11992</th>\n",
       "      <th>11995</th>\n",
       "      <th>11996</th>\n",
       "      <th>11997</th>\n",
       "      <th>11998</th>\n",
       "      <th>11999</th>\n",
       "      <th>12000</th>\n",
       "    </tr>\n",
       "    <tr>\n",
       "      <th>day</th>\n",
       "      <th></th>\n",
       "      <th></th>\n",
       "      <th></th>\n",
       "      <th></th>\n",
       "      <th></th>\n",
       "      <th></th>\n",
       "      <th></th>\n",
       "      <th></th>\n",
       "      <th></th>\n",
       "      <th></th>\n",
       "      <th></th>\n",
       "      <th></th>\n",
       "      <th></th>\n",
       "      <th></th>\n",
       "      <th></th>\n",
       "      <th></th>\n",
       "      <th></th>\n",
       "      <th></th>\n",
       "      <th></th>\n",
       "      <th></th>\n",
       "      <th></th>\n",
       "    </tr>\n",
       "  </thead>\n",
       "  <tbody>\n",
       "    <tr>\n",
       "      <th>2012-05-31</th>\n",
       "      <td>0</td>\n",
       "      <td>0</td>\n",
       "      <td>0</td>\n",
       "      <td>0</td>\n",
       "      <td>0</td>\n",
       "      <td>0</td>\n",
       "      <td>0</td>\n",
       "      <td>0</td>\n",
       "      <td>0</td>\n",
       "      <td>0</td>\n",
       "      <td>...</td>\n",
       "      <td>0</td>\n",
       "      <td>0</td>\n",
       "      <td>0</td>\n",
       "      <td>0</td>\n",
       "      <td>0</td>\n",
       "      <td>0</td>\n",
       "      <td>0</td>\n",
       "      <td>0</td>\n",
       "      <td>0</td>\n",
       "      <td>0</td>\n",
       "    </tr>\n",
       "    <tr>\n",
       "      <th>2012-06-01</th>\n",
       "      <td>0</td>\n",
       "      <td>0</td>\n",
       "      <td>0</td>\n",
       "      <td>0</td>\n",
       "      <td>0</td>\n",
       "      <td>0</td>\n",
       "      <td>0</td>\n",
       "      <td>0</td>\n",
       "      <td>0</td>\n",
       "      <td>0</td>\n",
       "      <td>...</td>\n",
       "      <td>0</td>\n",
       "      <td>0</td>\n",
       "      <td>0</td>\n",
       "      <td>0</td>\n",
       "      <td>0</td>\n",
       "      <td>0</td>\n",
       "      <td>0</td>\n",
       "      <td>0</td>\n",
       "      <td>0</td>\n",
       "      <td>0</td>\n",
       "    </tr>\n",
       "    <tr>\n",
       "      <th>2012-06-02</th>\n",
       "      <td>0</td>\n",
       "      <td>0</td>\n",
       "      <td>0</td>\n",
       "      <td>0</td>\n",
       "      <td>0</td>\n",
       "      <td>0</td>\n",
       "      <td>0</td>\n",
       "      <td>0</td>\n",
       "      <td>0</td>\n",
       "      <td>0</td>\n",
       "      <td>...</td>\n",
       "      <td>0</td>\n",
       "      <td>0</td>\n",
       "      <td>0</td>\n",
       "      <td>0</td>\n",
       "      <td>0</td>\n",
       "      <td>0</td>\n",
       "      <td>0</td>\n",
       "      <td>0</td>\n",
       "      <td>1</td>\n",
       "      <td>0</td>\n",
       "    </tr>\n",
       "    <tr>\n",
       "      <th>2012-06-03</th>\n",
       "      <td>0</td>\n",
       "      <td>0</td>\n",
       "      <td>0</td>\n",
       "      <td>0</td>\n",
       "      <td>0</td>\n",
       "      <td>0</td>\n",
       "      <td>0</td>\n",
       "      <td>0</td>\n",
       "      <td>0</td>\n",
       "      <td>0</td>\n",
       "      <td>...</td>\n",
       "      <td>0</td>\n",
       "      <td>0</td>\n",
       "      <td>0</td>\n",
       "      <td>0</td>\n",
       "      <td>0</td>\n",
       "      <td>0</td>\n",
       "      <td>0</td>\n",
       "      <td>0</td>\n",
       "      <td>0</td>\n",
       "      <td>0</td>\n",
       "    </tr>\n",
       "    <tr>\n",
       "      <th>2012-06-04</th>\n",
       "      <td>0</td>\n",
       "      <td>0</td>\n",
       "      <td>0</td>\n",
       "      <td>0</td>\n",
       "      <td>0</td>\n",
       "      <td>0</td>\n",
       "      <td>0</td>\n",
       "      <td>0</td>\n",
       "      <td>0</td>\n",
       "      <td>0</td>\n",
       "      <td>...</td>\n",
       "      <td>0</td>\n",
       "      <td>0</td>\n",
       "      <td>0</td>\n",
       "      <td>0</td>\n",
       "      <td>0</td>\n",
       "      <td>0</td>\n",
       "      <td>0</td>\n",
       "      <td>0</td>\n",
       "      <td>0</td>\n",
       "      <td>0</td>\n",
       "    </tr>\n",
       "  </tbody>\n",
       "</table>\n",
       "<p>5 rows × 8823 columns</p>\n",
       "</div>"
      ],
      "text/plain": [
       "            1      2      3      4      5      6      7      10     11     \\\n",
       "day                                                                         \n",
       "2012-05-31      0      0      0      0      0      0      0      0      0   \n",
       "2012-06-01      0      0      0      0      0      0      0      0      0   \n",
       "2012-06-02      0      0      0      0      0      0      0      0      0   \n",
       "2012-06-03      0      0      0      0      0      0      0      0      0   \n",
       "2012-06-04      0      0      0      0      0      0      0      0      0   \n",
       "\n",
       "            13     ...  11989  11990  11991  11992  11995  11996  11997  \\\n",
       "day                ...                                                    \n",
       "2012-05-31      0  ...      0      0      0      0      0      0      0   \n",
       "2012-06-01      0  ...      0      0      0      0      0      0      0   \n",
       "2012-06-02      0  ...      0      0      0      0      0      0      0   \n",
       "2012-06-03      0  ...      0      0      0      0      0      0      0   \n",
       "2012-06-04      0  ...      0      0      0      0      0      0      0   \n",
       "\n",
       "            11998  11999  12000  \n",
       "day                              \n",
       "2012-05-31      0      0      0  \n",
       "2012-06-01      0      0      0  \n",
       "2012-06-02      0      1      0  \n",
       "2012-06-03      0      0      0  \n",
       "2012-06-04      0      0      0  \n",
       "\n",
       "[5 rows x 8823 columns]"
      ]
     },
     "execution_count": 121,
     "metadata": {},
     "output_type": "execute_result"
    }
   ],
   "source": [
    "dl['day'] = dl['time_stamp'].dt.floor('D')\n",
    "\n",
    "pv = pd.pivot_table(\n",
    "    dl.groupby(['user_id', 'day'])[['visited']].sum().reset_index(),\n",
    "    index='day',\n",
    "    columns='user_id',\n",
    "    values='visited', \n",
    "    aggfunc='sum',\n",
    ").fillna(0).sort_index()\n",
    "assert pv.sum().sum() == dl['visited'].sum()\n",
    "pv.head(5)\n",
    "\n",
    "x = pd.DataFrame({'day':pd.date_range(pv.index.min(), pv.index.max(), freq='D')})\n",
    "pv = x.merge(pv.reset_index(), on='day', how='left').fillna(0).set_index('day')\n",
    "pv = (pv > 0).astype(int)\n",
    "pv.head(5)"
   ]
  },
  {
   "cell_type": "code",
   "execution_count": 156,
   "id": "6d7ca24b-b3db-4e16-be7d-6e7dcc7c8e7a",
   "metadata": {},
   "outputs": [],
   "source": [
    "x = (pv.rolling(7).sum().dropna() > 3).astype(int).sum()\n",
    "adopted_user_ids = x[x > 0].index.tolist()\n",
    "df['is_adopted'] = df['user_id'].isin(adopted_user_ids)"
   ]
  },
  {
   "cell_type": "code",
   "execution_count": 161,
   "id": "9f5981fd-206a-42b9-8700-8a41b5810ec4",
   "metadata": {},
   "outputs": [],
   "source": [
    "df['was_invited'] = df['invited_by_user_id'].notnull()"
   ]
  },
  {
   "cell_type": "code",
   "execution_count": 158,
   "id": "d7b06fd7-7ec8-4879-b6c5-d0a6b28ca02c",
   "metadata": {},
   "outputs": [],
   "source": [
    "df.to_csv('takehome_users_prepped.csv', index=False)"
   ]
  },
  {
   "cell_type": "code",
   "execution_count": null,
   "id": "3d528441-2605-41ca-b6c9-dd513e30ceed",
   "metadata": {},
   "outputs": [],
   "source": []
  },
  {
   "cell_type": "code",
   "execution_count": null,
   "id": "df9d04c1-ff33-467d-b5b0-b742ea14d443",
   "metadata": {},
   "outputs": [],
   "source": []
  },
  {
   "cell_type": "code",
   "execution_count": null,
   "id": "8a0fcd0d-963b-4ff4-b412-257482ee592f",
   "metadata": {},
   "outputs": [],
   "source": []
  },
  {
   "cell_type": "code",
   "execution_count": null,
   "id": "6f43043f-0842-4989-a139-20261562e843",
   "metadata": {},
   "outputs": [],
   "source": []
  },
  {
   "cell_type": "code",
   "execution_count": null,
   "id": "0ea75a25-5989-443a-a384-886b7808ae70",
   "metadata": {},
   "outputs": [],
   "source": []
  }
 ],
 "metadata": {
  "kernelspec": {
   "display_name": "Python 3 (ipykernel)",
   "language": "python",
   "name": "python3"
  },
  "language_info": {
   "codemirror_mode": {
    "name": "ipython",
    "version": 3
   },
   "file_extension": ".py",
   "mimetype": "text/x-python",
   "name": "python",
   "nbconvert_exporter": "python",
   "pygments_lexer": "ipython3",
   "version": "3.12.2"
  }
 },
 "nbformat": 4,
 "nbformat_minor": 5
}
